{
 "cells": [
  {
   "cell_type": "code",
   "execution_count": 1,
   "id": "32dc20a3",
   "metadata": {},
   "outputs": [
    {
     "data": {
      "text/plain": [
       "12"
      ]
     },
     "execution_count": 1,
     "metadata": {},
     "output_type": "execute_result"
    }
   ],
   "source": [
    "# The Least Common Multiple (LCM) of two numbers is the smallest number that is a multiple of both of them.\n",
    "# Let's take two numbers, 4 and 6.\n",
    "\n",
    "# Multiples of 4: 4, 8, 12, 16, 20, ...\n",
    "# Multiples of 6: 6, 12, 18, 24, 30, ...\n",
    "# In this case, the smallest number that is a multiple of both 4 and 6 is 12.\n",
    "\n",
    "# So, the LCM of 4 and 6 is 12.\n",
    "\n",
    "def lcm(a,b):\n",
    "    '''\n",
    "    Function which return the LCM of two number.\n",
    "    '''\n",
    "    high = a if a > b else b\n",
    "    \n",
    "    while True:\n",
    "        if (high%a==0) and (high%b==0):\n",
    "            break\n",
    "        else:\n",
    "            high += 1\n",
    "            \n",
    "    return high\n",
    "\n",
    "lcm(4,6)"
   ]
  },
  {
   "cell_type": "code",
   "execution_count": 2,
   "id": "ace45db5",
   "metadata": {},
   "outputs": [
    {
     "data": {
      "text/plain": [
       "1"
      ]
     },
     "execution_count": 2,
     "metadata": {},
     "output_type": "execute_result"
    }
   ],
   "source": [
    "# HCF stands for Highest Common Factor, also known as the Greatest Common Divisor (GCD).\n",
    "# It represents the largest positive integer that divides both numbers without leaving a remainder.\n",
    "\n",
    "\n",
    "# Example:\n",
    "\n",
    "# Consider two numbers, 24 and 36.\n",
    "\n",
    "# To find the HCF of 24 and 36, we list all the factors of both numbers:\n",
    "\n",
    "# Factors of 24: 1, 2, 3, 4, 6, 8, 12, 24\n",
    "# Factors of 36: 1, 2, 3, 4, 6, 9, 12, 18, 36\n",
    "\n",
    "# The common factors of 24 and 36 are: 1, 2, 3, 4, 6, 12\n",
    "\n",
    "# Among these common factors, the highest one is 12.\n",
    "\n",
    "# So, the HCF of 24 and 36 is 12.\n",
    "\n",
    "\n",
    "# Write a Python Program to Find HCF?\n",
    "def hcf(a, b):\n",
    "    \n",
    "    low = a if a < b else b\n",
    "    \n",
    "    for i in range(1, low+1):\n",
    "        if (a%i==0) and (b%i==0):\n",
    "            hcf = i\n",
    "            \n",
    "    return hcf\n",
    "\n",
    "hcf(53,33)"
   ]
  },
  {
   "cell_type": "code",
   "execution_count": 3,
   "id": "3d5339d9",
   "metadata": {},
   "outputs": [
    {
     "name": "stdout",
     "output_type": "stream",
     "text": [
      "Binary:       0b111\n",
      "Octal:        0o7\n",
      "Hexadecimal:  0x7\n",
      ".................\n",
      "Binary:       0b101110001\n",
      "Octal:        0o561\n",
      "Hexadecimal:  0x171\n"
     ]
    }
   ],
   "source": [
    "# Write a Python Program to Convert Decimal to Binary, Octal and Hexadecimal?\n",
    "\n",
    "def conversion(num):\n",
    "    print(\"Binary:      \", bin(num))\n",
    "    print(\"Octal:       \", oct(num))\n",
    "    print(\"Hexadecimal: \", hex(num))\n",
    "    \n",
    "conversion(7)\n",
    "print(\".................\")\n",
    "conversion(369)"
   ]
  },
  {
   "cell_type": "code",
   "execution_count": 4,
   "id": "7c2ab9cc",
   "metadata": {},
   "outputs": [
    {
     "name": "stdout",
     "output_type": "stream",
     "text": [
      "Enter a character: e\n",
      "ASCII value of e is 101\n"
     ]
    }
   ],
   "source": [
    "# Write a Python Program To Find ASCII value of a character?\n",
    "\n",
    "try:\n",
    "    char = input(\"Enter a character: \")\n",
    "    \n",
    "#     The ord() function in Python returns the ASCII value of a character.\n",
    "    ASCII = ord(char)\n",
    "    print(\"ASCII value of {} is {}\".format(char, ASCII))\n",
    "    \n",
    "#     This line starts an exception handling block.\n",
    "# It catches any exception that occurs during the execution of the code and assigns it to the variable e.\n",
    "except Exception as e:\n",
    "    print(e)"
   ]
  },
  {
   "cell_type": "code",
   "execution_count": null,
   "id": "a37cfadc",
   "metadata": {},
   "outputs": [
    {
     "name": "stdout",
     "output_type": "stream",
     "text": [
      "Enter first number: 78\n",
      "Enter second number: 98\n",
      "\n",
      "For addition:       +\n",
      "For subtraction:    -\n",
      "For multiplicaton:  *\n",
      "For division:       /\n",
      "For Exit:            X\n",
      "\n",
      "Enter the choice for mathematical operations: +\n",
      "\n",
      "Result:  176\n",
      "Enter first number: 46\n",
      "Enter second number: 78\n",
      "\n",
      "For addition:       +\n",
      "For subtraction:    -\n",
      "For multiplicaton:  *\n",
      "For division:       /\n",
      "For Exit:            X\n",
      "\n",
      "Enter the choice for mathematical operations: -\n",
      "\n",
      "Result:  -32\n"
     ]
    }
   ],
   "source": [
    "# simple calculator\n",
    "\n",
    "try:\n",
    "    \n",
    "    while True:\n",
    "        num1 = int(input(\"Enter first number: \"))\n",
    "        num2 = int(input(\"Enter second number: \"))\n",
    "        \n",
    "        print(\"\\nFor addition:       +\")\n",
    "        print(\"For subtraction:    -\")\n",
    "        print(\"For multiplicaton:  *\")\n",
    "        print(\"For division:       /\")\n",
    "        print(\"For Exit:            X\")\n",
    "        \n",
    "        ch = input(\"\\nEnter the choice for mathematical operations: \")\n",
    "        if ch == '+':\n",
    "            output = num1 + num2\n",
    "        elif ch == '-':\n",
    "            output = num1 - num2\n",
    "        elif ch == '*':\n",
    "            output = num1 * num2\n",
    "        elif ch == '/':\n",
    "            output = num1 / num2\n",
    "        \n",
    "        if ch == 'X' or ch == 'x':\n",
    "            break\n",
    "            \n",
    "        print(\"\\nResult: \", output)\n",
    "        \n",
    "        \n",
    "            \n",
    "except Exception as e:\n",
    "    print(e)"
   ]
  },
  {
   "cell_type": "code",
   "execution_count": null,
   "id": "e85ddcb3",
   "metadata": {},
   "outputs": [],
   "source": []
  }
 ],
 "metadata": {
  "kernelspec": {
   "display_name": "Python 3 (ipykernel)",
   "language": "python",
   "name": "python3"
  },
  "language_info": {
   "codemirror_mode": {
    "name": "ipython",
    "version": 3
   },
   "file_extension": ".py",
   "mimetype": "text/x-python",
   "name": "python",
   "nbconvert_exporter": "python",
   "pygments_lexer": "ipython3",
   "version": "3.10.9"
  }
 },
 "nbformat": 4,
 "nbformat_minor": 5
}
