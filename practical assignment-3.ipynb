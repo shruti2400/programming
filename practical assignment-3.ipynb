{
 "cells": [
  {
   "cell_type": "code",
   "execution_count": 3,
   "id": "d5453276",
   "metadata": {},
   "outputs": [
    {
     "name": "stdout",
     "output_type": "stream",
     "text": [
      "enter a number : 78\n",
      "78 is positive\n"
     ]
    }
   ],
   "source": [
    "# . Write a Python Program to Check if a Number is Positive, Negative or Zero?\n",
    "\n",
    "n = int(input(\"enter a number : \"))\n",
    "\n",
    "if n > 0:\n",
    "    print(\"{} is positive\".format(n))\n",
    "elif n == 0:\n",
    "    print(\"{} is zero\".format(n))\n",
    "else:\n",
    "    print(\"{} is negative\".format(n))"
   ]
  },
  {
   "cell_type": "code",
   "execution_count": 4,
   "id": "0c16a596",
   "metadata": {},
   "outputs": [
    {
     "name": "stdout",
     "output_type": "stream",
     "text": [
      "enter a number:78\n",
      "78 is even\n"
     ]
    }
   ],
   "source": [
    "# Write a Python Program to Check if a Number is Odd or Even?\n",
    "\n",
    "n = int(input(\"enter a number:\"))\n",
    "\n",
    "if n % 2 == 0:\n",
    "    print(n,\"is even\")\n",
    "else:\n",
    "    print(n,\"is odd\")"
   ]
  },
  {
   "cell_type": "code",
   "execution_count": 6,
   "id": "91e67848",
   "metadata": {},
   "outputs": [
    {
     "name": "stdout",
     "output_type": "stream",
     "text": [
      "Leap Year\n"
     ]
    }
   ],
   "source": [
    "# 3. Write a Python Program to Check Leap Year?\n",
    "\n",
    "year = 2020\n",
    "\n",
    "if((year % 4 == 0) and (year % 100 != 0)) or (year % 400 == 0):\n",
    "    print(\"Leap Year\")\n",
    "else:\n",
    "    print(\"Not a Leap Year\")\n",
    "    \n",
    "# if ((year % 4 == 0) and (year % 100 != 0))\n",
    "# or\n",
    "# (year % 400 == 0)\n",
    "# ((year % 4 == 0) and (year % 100 != 0)) or (year % 400 == 0)"
   ]
  },
  {
   "cell_type": "code",
   "execution_count": 7,
   "id": "71144170",
   "metadata": {},
   "outputs": [
    {
     "name": "stdout",
     "output_type": "stream",
     "text": [
      "Enter a number: 56\n",
      "56 is not prime number\n"
     ]
    }
   ],
   "source": [
    "# 4. Write a Python Program to Check Prime Number?\n",
    "\n",
    "num = int(input(\"Enter a number: \"))\n",
    "\n",
    "isPrime = True\n",
    "\n",
    "if num <= 1:\n",
    "    print(num, \"is neither prime nor composite\")\n",
    "else:\n",
    "    d = 2\n",
    "    while(d*d <= num):\n",
    "        if(num%d==0):\n",
    "            isPrime = False\n",
    "            break\n",
    "        d = d + 1\n",
    "\n",
    "if(num > 1):\n",
    "    if(isPrime):\n",
    "        print(num, \"is prime number\")\n",
    "    else:\n",
    "        print(num, \"is not prime number\")"
   ]
  },
  {
   "cell_type": "code",
   "execution_count": null,
   "id": "6298e0f7",
   "metadata": {},
   "outputs": [],
   "source": [
    "# Function to check if a number is prime\n",
    "def is_prime(num):\n",
    "    if num <= 1:\n",
    "        return False\n",
    "    for i in range(2, int(num**0.5) + 1):\n",
    "        if num % i == 0:\n",
    "            return False\n",
    "    return True\n",
    "\n",
    "# Print prime numbers in the interval 1 to 10000\n",
    "print(\"Prime numbers between 1 and 10000:\")\n",
    "count = 0\n",
    "for i in range(1, 10001):\n",
    "    if is_prime(i):\n",
    "        print(i, end=\" \")\n",
    "        count += 1\n",
    "        if count % 10 == 0:  # Print 10 numbers per line\n",
    "            print()  # Move to the next line\n"
   ]
  },
  {
   "cell_type": "code",
   "execution_count": null,
   "id": "759f7a9a",
   "metadata": {},
   "outputs": [],
   "source": []
  }
 ],
 "metadata": {
  "kernelspec": {
   "display_name": "Python 3 (ipykernel)",
   "language": "python",
   "name": "python3"
  },
  "language_info": {
   "codemirror_mode": {
    "name": "ipython",
    "version": 3
   },
   "file_extension": ".py",
   "mimetype": "text/x-python",
   "name": "python",
   "nbconvert_exporter": "python",
   "pygments_lexer": "ipython3",
   "version": "3.10.9"
  }
 },
 "nbformat": 4,
 "nbformat_minor": 5
}
