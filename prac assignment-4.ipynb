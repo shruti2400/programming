{
 "cells": [
  {
   "cell_type": "code",
   "execution_count": 1,
   "id": "76ad3f1b",
   "metadata": {},
   "outputs": [
    {
     "name": "stdout",
     "output_type": "stream",
     "text": [
      "Enter a number: 9\n",
      "\n",
      "Factorial of 9: 362880\n"
     ]
    }
   ],
   "source": [
    "# Write a Python Program to Find the Factorial of a Number?\n",
    "num = int(input(\"Enter a number: \"))\n",
    "\n",
    "fact = 1\n",
    "for i in range(num, 0, -1):\n",
    "    fact = fact*i\n",
    "    \n",
    "print(\"\\nFactorial of {}: {}\".format(num, fact))\n",
    "\n",
    "# start, till 0 ,step backward with -1 meaans 9 8 7 6 5 4 3 2 1 0\n"
   ]
  },
  {
   "cell_type": "code",
   "execution_count": 1,
   "id": "ae7a4e95",
   "metadata": {},
   "outputs": [
    {
     "name": "stdout",
     "output_type": "stream",
     "text": [
      "Enter a number: 99\n",
      "99 x 1 = 99\n",
      "99 x 2 = 198\n",
      "99 x 3 = 297\n",
      "99 x 4 = 396\n",
      "99 x 5 = 495\n",
      "99 x 6 = 594\n",
      "99 x 7 = 693\n",
      "99 x 8 = 792\n",
      "99 x 9 = 891\n",
      "99 x 10 = 990\n"
     ]
    }
   ],
   "source": [
    "# 2. Write a Python Program to Display the multiplication Table?\n",
    "\n",
    "\n",
    "num = int(input(\"Enter a number: \"))\n",
    "\n",
    "for i in range(1, 11):\n",
    "    print(\"{} x {} = {}\".format(num, i, num*i))"
   ]
  },
  {
   "cell_type": "code",
   "execution_count": 2,
   "id": "572ee5c5",
   "metadata": {},
   "outputs": [
    {
     "name": "stdout",
     "output_type": "stream",
     "text": [
      "Enter a length: 9\n",
      "0 1 1 2 3 5 8 13 21 "
     ]
    }
   ],
   "source": [
    "# Write a Python Program to Print the Fibonacci sequence?\n",
    "fibo_length = int(input(\"Enter a length: \"))\n",
    "\n",
    "a = 0\n",
    "b = 1\n",
    "print(a, end = ' ')\n",
    "print(b, end = ' ')\n",
    "while(fibo_length-2 > 0):\n",
    "    nt = a + b\n",
    "    print(nt, end = ' ')\n",
    "    a = b\n",
    "    b = nt\n",
    "    \n",
    "'''This while loop generates the rest of the Fibonacci sequence. It continues until the specified fibo_length is reached. \n",
    "In each iteration: It calculates the next Fibonacci number nt by adding the previous two numbers (a and b).\n",
    "Prints the new Fibonacci number.Updates the values of a and b to prepare for the next iteration.'''\n",
    "\n",
    "'''Decrements the fibo_length variable to keep track of the sequence length.\n",
    "Explanation of the loop condition: fibo_length - 2 > 0: The loop continues as long as fibo_length minus 2 is greater than 0.\n",
    "The condition fibo_length - 2 ensures that the loop terminates when the desired length of the Fibonacci sequence has been\n",
    "reached. By subtracting 2, the loop accounts for the two initial numbers (0 and 1) that have already been printed, \n",
    "hence ensuring that the total length of the sequence matches the user's input.'''\n",
    " \n",
    "    fibo_length -= 1"
   ]
  },
  {
   "cell_type": "code",
   "execution_count": 3,
   "id": "6740fd75",
   "metadata": {},
   "outputs": [
    {
     "name": "stdout",
     "output_type": "stream",
     "text": [
      "Enter a number to check if it's an Armstrong number: 153\n",
      "153 is an Armstrong number\n"
     ]
    }
   ],
   "source": [
    "# Write a Python Program to Check Armstrong Number?\n",
    "\n",
    "# Count the number of digits in the given number.\n",
    "# Extract each digit from the number.\n",
    "# Raise each digit to the power of the total number of digits.\n",
    "# Sum up the results obtained from step 3.\n",
    "# Check if the sum equals the original number. If it does, then the number is an Armstrong number.\n",
    "\n",
    "import math\n",
    "\n",
    "def is_armstrong(number):\n",
    "    # Convert the number to a string to count the number of digits\n",
    "    num_str = str(number)\n",
    "    num_digits = len(num_str)\n",
    "    \n",
    "    # Calculate the sum of the digits raised to the power of the number of digits\n",
    "    armstrong_sum = sum(int(digit) ** num_digits for digit in num_str)\n",
    "    \n",
    "    # Check if the sum equals the original number\n",
    "    return armstrong_sum == number\n",
    "\n",
    "# Test the function\n",
    "num = int(input(\"Enter a number to check if it's an Armstrong number: \"))\n",
    "if is_armstrong(num):\n",
    "    print(num, \"is an Armstrong number\")\n",
    "else:\n",
    "    print(num, \"is not an Armstrong number\")\n"
   ]
  },
  {
   "cell_type": "code",
   "execution_count": 4,
   "id": "5b43f0cc",
   "metadata": {},
   "outputs": [
    {
     "name": "stdout",
     "output_type": "stream",
     "text": [
      "Enter the lower value of range: 50\n",
      "Enter the higher value of range: 1000\n",
      "\n",
      "From 50 to 1000 following are the Armstrong Number:\n",
      "153 370 371 407 "
     ]
    }
   ],
   "source": [
    "# Write a Python Program to Find Armstrong Number in an Interval?\n",
    "\n",
    "low = int(input(\"Enter the lower value of range: \"))\n",
    "high = int(input(\"Enter the higher value of range: \"))\n",
    "\n",
    "print(\"\\nFrom {} to {} following are the Armstrong Number:\".format(low, high), end='\\n')\n",
    "for i in range(low, high+1):\n",
    "    \n",
    "    if(is_armstrong(i)):\n",
    "        print(i, end = ' ')"
   ]
  },
  {
   "cell_type": "code",
   "execution_count": 6,
   "id": "b3eafc0b",
   "metadata": {},
   "outputs": [
    {
     "name": "stdout",
     "output_type": "stream",
     "text": [
      "Enter a positive number: 60\n",
      "Sum of 60 natural number is 1830\n"
     ]
    }
   ],
   "source": [
    "# Write a Python Program to Find the Sum of Natural Numbers?\n",
    "num = int(input(\"Enter a positive number: \"))\n",
    "\n",
    "total_sum = 0\n",
    "for i in range(1, num+1):\n",
    "    total_sum += i\n",
    "    \n",
    "print(\"Sum of {} natural number is {}\".format(num, total_sum))"
   ]
  },
  {
   "cell_type": "code",
   "execution_count": null,
   "id": "3fc4b43b",
   "metadata": {},
   "outputs": [],
   "source": []
  }
 ],
 "metadata": {
  "kernelspec": {
   "display_name": "Python 3 (ipykernel)",
   "language": "python",
   "name": "python3"
  },
  "language_info": {
   "codemirror_mode": {
    "name": "ipython",
    "version": 3
   },
   "file_extension": ".py",
   "mimetype": "text/x-python",
   "name": "python",
   "nbconvert_exporter": "python",
   "pygments_lexer": "ipython3",
   "version": "3.10.9"
  }
 },
 "nbformat": 4,
 "nbformat_minor": 5
}
